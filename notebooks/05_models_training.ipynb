{
 "cells": [
  {
   "cell_type": "markdown",
   "id": "2514e12c-37f7-48f3-8cb8-53a8e9eb7e83",
   "metadata": {},
   "source": [
    "# **Treinamendo dos modelos**"
   ]
  },
  {
   "cell_type": "markdown",
   "id": "349a070b-4e6f-488b-9ec5-a505f017045f",
   "metadata": {},
   "source": [
    "#### **1. Importando Bibliotecas**"
   ]
  },
  {
   "cell_type": "code",
   "execution_count": 1,
   "id": "e900452a-4eb0-49d5-bf37-95052338150e",
   "metadata": {},
   "outputs": [],
   "source": [
    "import pandas as pd\n",
    "import numpy as np\n",
    "import os\n",
    "\n",
    "from sklearn.model_selection import cross_validate\n",
    "from sklearn.model_selection import train_test_split\n",
    "from sklearn.model_selection import GridSearchCV\n",
    "from sklearn.preprocessing import LabelEncoder\n",
    "from sklearn.metrics import mean_absolute_error, mean_squared_error, r2_score, make_scorer\n",
    "\n",
    "from sklearn.ensemble import RandomForestRegressor\n",
    "from lightgbm import LGBMRegressor\n",
    "from catboost import CatBoostRegressor\n",
    "from joblib import dump"
   ]
  },
  {
   "cell_type": "markdown",
   "id": "84f39ba8-dc21-4ef9-91c2-f1af97283c58",
   "metadata": {},
   "source": [
    "#### **2. Carregando e preparando dados**"
   ]
  },
  {
   "cell_type": "code",
   "execution_count": 2,
   "id": "67f99511-9d4c-473b-97a5-673c38d4478e",
   "metadata": {},
   "outputs": [],
   "source": [
    "# Carregando os dados\n",
    "BASE_DIR = os.path.abspath(os.path.join(os.getcwd(), '..'))\n",
    "caminho_thrusted = os.path.join(BASE_DIR, 'dados', 'thrusted', 'imoveis_sem_outliers.csv')\n",
    "df = pd.read_csv(f\"{caminho_thrusted}\")"
   ]
  },
  {
   "cell_type": "markdown",
   "id": "0435f13f-e8c5-4fb9-addd-439117026e39",
   "metadata": {},
   "source": [
    "#### **3. Pré-processando os dados**"
   ]
  },
  {
   "cell_type": "code",
   "execution_count": 3,
   "id": "ed13d9cd-3c23-470c-b96f-ef5c59bb5f14",
   "metadata": {},
   "outputs": [],
   "source": [
    "X = df.drop(\"preco\", axis=1)\n",
    "y = df[\"preco\"]\n",
    "\n",
    "le_bairro = LabelEncoder()\n",
    "X[\"bairro\"] = le_bairro.fit_transform(X[\"bairro\"])\n",
    "colunas_remover = ['school', 'supermarket', 'restaurant']\n",
    "X = X.drop(columns=colunas_remover)"
   ]
  },
  {
   "cell_type": "markdown",
   "id": "fb241a37-fc8a-415a-b620-f2d0f61e288b",
   "metadata": {},
   "source": [
    "#### **4. Função de avaliação dos modelos por crossfit validation usando R², MAE, RMSE**"
   ]
  },
  {
   "cell_type": "code",
   "execution_count": 4,
   "id": "3b8f7920-f9c4-4e32-abf5-551a52931387",
   "metadata": {},
   "outputs": [],
   "source": [
    "scoring = {\n",
    "    'r2': 'r2',\n",
    "    'mae': make_scorer(mean_absolute_error),\n",
    "    'rmse': make_scorer(lambda y_true, y_pred: np.sqrt(mean_squared_error(y_true, y_pred)))\n",
    "}\n",
    "\n",
    "def avaliar_modelo_cv(modelo, X, y, cv=10):\n",
    "    resultados = cross_validate(modelo, X, y, cv=cv, scoring=scoring, return_train_score=False)\n",
    "    \n",
    "    media_r2 = np.mean(resultados['test_r2'])\n",
    "    media_mae = np.mean(resultados['test_mae'])\n",
    "    media_rmse = np.mean(resultados['test_rmse'])\n",
    "    \n",
    "    print(f'\\n🔍 Avaliando {modelo.__class__.__name__}')\n",
    "    print(f'R² médio:   {media_r2:.4f}')\n",
    "    print(f'MAE médio:  {media_mae:.2f}')\n",
    "    print(f'RMSE médio: {media_rmse:.2f}')\n",
    "    \n",
    "    return {\n",
    "        'r2': media_r2,\n",
    "        'mae': media_mae,\n",
    "        'rmse': media_rmse\n",
    "    }"
   ]
  },
  {
   "cell_type": "markdown",
   "id": "b09cf214-8c02-4ee7-bce6-03233977230b",
   "metadata": {},
   "source": [
    "#### **5. Modelos a serem avaliados**"
   ]
  },
  {
   "cell_type": "code",
   "execution_count": 5,
   "id": "8a442e95-038e-483d-9d29-aee6f9d77607",
   "metadata": {},
   "outputs": [],
   "source": [
    "modelos = {   \n",
    "    \"Random Forest\": RandomForestRegressor(random_state=42),\n",
    "    \"LightGBM\":LGBMRegressor(\n",
    "        random_state=42,\n",
    "        verbose=-1 # silencia warnings\n",
    "        ),\n",
    "    \"CatBoost\": CatBoostRegressor(verbose=0, random_state=42)\n",
    "}"
   ]
  },
  {
   "cell_type": "markdown",
   "id": "b7d6a0fe-cbed-4d81-99bc-433540f25e45",
   "metadata": {},
   "source": [
    "#### **6. Avaliação dos modelos**"
   ]
  },
  {
   "cell_type": "code",
   "execution_count": 6,
   "id": "fad5907e-35c6-4216-9d27-8643f09023f2",
   "metadata": {},
   "outputs": [
    {
     "name": "stdout",
     "output_type": "stream",
     "text": [
      "\n",
      "🔍 Avaliando RandomForestRegressor\n",
      "R² médio:   0.5375\n",
      "MAE médio:  61486.88\n",
      "RMSE médio: 83283.31\n",
      "\n",
      "🔍 Avaliando LGBMRegressor\n",
      "R² médio:   0.5156\n",
      "MAE médio:  63690.31\n",
      "RMSE médio: 85508.54\n",
      "\n",
      "🔍 Avaliando CatBoostRegressor\n",
      "R² médio:   0.5288\n",
      "MAE médio:  61177.00\n",
      "RMSE médio: 84084.00\n"
     ]
    }
   ],
   "source": [
    "resultados_modelos_cv = {}\n",
    "\n",
    "for nome, modelo in modelos.items():\n",
    "    resultados = avaliar_modelo_cv(modelo, X, y)\n",
    "    resultados_modelos_cv[nome] = resultados"
   ]
  },
  {
   "cell_type": "markdown",
   "id": "3bb5535f-a892-488c-a953-66c649d9e547",
   "metadata": {},
   "source": [
    "#### **7. Treinamendo do modelo**"
   ]
  },
  {
   "cell_type": "code",
   "execution_count": 7,
   "id": "ea3ba41a-a143-426c-86bf-4429f6dd7157",
   "metadata": {},
   "outputs": [
    {
     "name": "stdout",
     "output_type": "stream",
     "text": [
      "Melhores hiperparâmetros:\n",
      "{'max_depth': None, 'min_samples_leaf': 1, 'min_samples_split': 10, 'n_estimators': 300}\n",
      "\n",
      "Melhor R² obtido (validação cruzada):\n",
      "0.6078\n",
      "\n",
      "📊 Avaliação do modelo em dados nunca vistos:\n",
      "R²:   0.6226\n",
      "MAE:  R$ 64,026.02\n",
      "RMSE: R$ 83,463.36\n",
      "\n",
      "✅ Modelo exportado com sucesso para: /Users/Homailson/Documents/WebScrapZapImoveis/modelos/random_forest_sem_outliers.joblib\n"
     ]
    }
   ],
   "source": [
    "def treinar_modelo_otimizado(X, y, param_grid=None, test_size=0.2, random_state=42,\n",
    "                              cv=5, scoring='r2', caminho_modelo='modelo_otimizado.joblib'):\n",
    "    if param_grid is None:\n",
    "        param_grid = {\n",
    "            'n_estimators': [100, 200, 300],\n",
    "            'max_depth': [None, 10, 20, 30],\n",
    "            'min_samples_split': [2, 5, 10],\n",
    "            'min_samples_leaf': [1, 2, 4]\n",
    "        }\n",
    "\n",
    "    # 1. Dividir os dados\n",
    "    X_train, X_test, y_train, y_test = train_test_split(X, y, test_size=test_size, random_state=random_state)\n",
    "\n",
    "    # 2. Otimização com GridSearchCV\n",
    "    rf = RandomForestRegressor(random_state=random_state)\n",
    "    grid_search = GridSearchCV(\n",
    "        estimator=rf,\n",
    "        param_grid=param_grid,\n",
    "        cv=cv,\n",
    "        scoring=scoring,\n",
    "        n_jobs=-1\n",
    "    )\n",
    "    grid_search.fit(X_train, y_train)\n",
    "\n",
    "    # 3. Melhor modelo e predições\n",
    "    melhor_modelo = grid_search.best_estimator_\n",
    "    y_pred = melhor_modelo.predict(X_test)\n",
    "\n",
    "    # 4. Avaliação\n",
    "    r2 = r2_score(y_test, y_pred)\n",
    "    mae = mean_absolute_error(y_test, y_pred)\n",
    "    rmse = np.sqrt(mean_squared_error(y_test, y_pred))\n",
    "\n",
    "    # Resultados\n",
    "    print(\"Melhores hiperparâmetros:\")\n",
    "    print(grid_search.best_params_)\n",
    "\n",
    "    print(\"\\nMelhor R² obtido (validação cruzada):\")\n",
    "    print(f\"{grid_search.best_score_:.4f}\")\n",
    "\n",
    "    print(\"\\n📊 Avaliação do modelo em dados nunca vistos:\")\n",
    "    print(f\"R²:   {r2:.4f}\")\n",
    "    print(f\"MAE:  R$ {mae:,.2f}\")\n",
    "    print(f\"RMSE: R$ {rmse:,.2f}\")\n",
    "\n",
    "    # 5. Exportar modelo treinado\n",
    "    dump(melhor_modelo, caminho_modelo)\n",
    "    print(f\"\\n✅ Modelo exportado com sucesso para: {caminho_modelo}\")\n",
    "\n",
    "    return melhor_modelo, grid_search.best_params_, r2, mae, rmse\n",
    "\n",
    "caminho_modelos=os.path.join(BASE_DIR, 'modelos')\n",
    "modelo='random_forest_sem_outliers.joblib'\n",
    "rf, _, _, _, _ = treinar_modelo_otimizado(X, y, caminho_modelo=f'{caminho_modelos}/{modelo}')"
   ]
  },
  {
   "cell_type": "markdown",
   "id": "3d36628a-9dc4-44b8-84c1-e52201dee955",
   "metadata": {},
   "source": [
    "#### **8. Exemplo de Predição**"
   ]
  },
  {
   "cell_type": "code",
   "execution_count": 8,
   "id": "788c3b80-63cd-43b7-9b07-4fcd52b88ee4",
   "metadata": {},
   "outputs": [
    {
     "name": "stdout",
     "output_type": "stream",
     "text": [
      "✅ Preço previsto para o imóvel: R$ 399,662.28\n"
     ]
    }
   ],
   "source": [
    "# ----------------------------\n",
    "# Dados do imóvel para predição\n",
    "dados_imovel = {\n",
    "    \"bairro\": [\"Vila Passos\"],\n",
    "    \"area\": [600],\n",
    "    \"quartos\": [3],\n",
    "    \"banheiros\": [2],\n",
    "    \"vagas\": [2],\n",
    "    \"hospital\": [1],\n",
    "    \"gas_station\": [1],\n",
    "    \"pharmacy\": [1]\n",
    "}\n",
    "\n",
    "df_imovel = pd.DataFrame(dados_imovel)\n",
    "\n",
    "# ----------------------------\n",
    "# Verificar se o bairro existe no encoder\n",
    "bairro = df_imovel[\"bairro\"].iloc[0]\n",
    "if bairro not in le_bairro.classes_:\n",
    "    print(f\"❌ Bairro '{bairro}' não reconhecido pelo modelo treinado.\")\n",
    "else:\n",
    "    # Transformar o bairro com LabelEncoder\n",
    "    df_imovel[\"bairro\"] = le_bairro.transform(df_imovel[\"bairro\"])\n",
    "\n",
    "    # Garantir ordem das colunas igual ao treino\n",
    "    colunas_modelo = ['bairro', 'area', 'quartos', 'banheiros', 'vagas',\n",
    "                      'hospital', 'gas_station', 'pharmacy']\n",
    "    df_imovel = df_imovel[colunas_modelo]\n",
    "\n",
    "    # Fazer predição\n",
    "    preco_predito = rf.predict(df_imovel)\n",
    "    print(f\"✅ Preço previsto para o imóvel: R$ {preco_predito[0]:,.2f}\")"
   ]
  },
  {
   "cell_type": "code",
   "execution_count": 9,
   "id": "eef40293-2715-4251-b451-381440a87e04",
   "metadata": {},
   "outputs": [
    {
     "name": "stdout",
     "output_type": "stream",
     "text": [
      "       Feature  Importância\n",
      "1         area     0.334476\n",
      "3    banheiros     0.232268\n",
      "2      quartos     0.193386\n",
      "0       bairro     0.138970\n",
      "4        vagas     0.060272\n",
      "6  gas_station     0.028487\n",
      "5     hospital     0.006702\n",
      "7     pharmacy     0.005440\n"
     ]
    },
    {
     "data": {
      "image/png": "[encoded data removed]",
      "text/plain": [
       "<Figure size 1000x600 with 1 Axes>"
      ]
     },
     "metadata": {},
     "output_type": "display_data"
    }
   ],
   "source": [
    "import pandas as pd\n",
    "import matplotlib.pyplot as plt\n",
    "\n",
    "# Pegando os nomes das colunas\n",
    "feature_names = X.columns\n",
    "\n",
    "# Importâncias calculadas pelo modelo\n",
    "importancias = rf.feature_importances_\n",
    "\n",
    "# Criar um DataFrame para melhor visualização\n",
    "df_importancia = pd.DataFrame({\n",
    "    'Feature': feature_names,\n",
    "    'Importância': importancias\n",
    "}).sort_values(by='Importância', ascending=False)\n",
    "\n",
    "# Mostrar a tabela ordenada\n",
    "print(df_importancia)\n",
    "\n",
    "# Plotar gráfico de barras\n",
    "plt.figure(figsize=(10, 6))\n",
    "plt.barh(df_importancia['Feature'], df_importancia['Importância'], color='steelblue')\n",
    "plt.gca().invert_yaxis()  # Inverter y para maior em cima\n",
    "plt.title('Importância das Variáveis no Modelo Random Forest')\n",
    "plt.xlabel('Importância Relativa')\n",
    "plt.tight_layout()\n",
    "plt.show()"
   ]
  }
 ],
 "metadata": {
  "kernelspec": {
   "display_name": "Python 3 (ipykernel)",
   "language": "python",
   "name": "python3"
  },
  "language_info": {
   "codemirror_mode": {
    "name": "ipython",
    "version": 3
   },
   "file_extension": ".py",
   "mimetype": "text/x-python",
   "name": "python",
   "nbconvert_exporter": "python",
   "pygments_lexer": "ipython3",
   "version": "3.10.11"
  }
 },
 "nbformat": 4,
 "nbformat_minor": 5
}
