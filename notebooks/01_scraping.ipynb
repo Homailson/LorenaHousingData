{
 "cells": [
  {
   "cell_type": "markdown",
   "id": "7deaff42-c8ec-439f-90e3-301804c59a17",
   "metadata": {},
   "source": [
    "## Importações e diretório base"
   ]
  },
  {
   "cell_type": "code",
   "execution_count": null,
   "id": "e5fc846d-bdd8-4517-b72c-153070913e38",
   "metadata": {},
   "outputs": [],
   "source": [
    "from selenium import webdriver\n",
    "from selenium.webdriver.common.by import By\n",
    "from selenium.webdriver.chrome.service import Service\n",
    "from selenium.webdriver.support.ui import WebDriverWait\n",
    "from selenium.webdriver.support import expected_conditions as EC\n",
    "from selenium.common.exceptions import TimeoutException, NoSuchElementException\n",
    "from webdriver_manager.chrome import ChromeDriverManager\n",
    "import csv\n",
    "import time\n",
    "import os\n",
    "\n",
    "# Define caminho base como o diretório atual (adaptado para notebooks)\n",
    "BASE_DIR = os.path.abspath(os.path.join(os.getcwd(), '..')) # ou defina manualmente se necessário"
   ]
  },
  {
   "cell_type": "markdown",
   "id": "89458773-3c3d-44f0-b2a2-b7920085b125",
   "metadata": {},
   "source": [
    "## Configuração do driver"
   ]
  },
  {
   "cell_type": "code",
   "execution_count": 1,
   "id": "742c6cd7-e426-4b57-9ad5-d30ebb939245",
   "metadata": {},
   "outputs": [],
   "source": [
    "# Configurações do driver\n",
    "def configurar_driver():\n",
    "    options = webdriver.ChromeOptions()\n",
    "    options.add_argument(\"--start-maximized\")  # Abre o navegador maximizado\n",
    "    # options.add_argument(\"--headless\")  # Se quiser headless\n",
    "    driver = webdriver.Chrome(service=Service(ChromeDriverManager().install()), options=options)\n",
    "    driver.set_page_load_timeout(60)\n",
    "    return driver"
   ]
  },
  {
   "cell_type": "markdown",
   "id": "43a58875-c83e-419b-a4d2-f351b2d0eb4e",
   "metadata": {},
   "source": [
    "## Função para lidar com CAPTCHA"
   ]
  },
  {
   "cell_type": "code",
   "execution_count": 2,
   "id": "f2a605bc-b403-4007-b367-f3b1b7dfd1eb",
   "metadata": {},
   "outputs": [],
   "source": [
    "# Verificando bloqueios de Captcha\n",
    "def lidar_com_captcha(driver):\n",
    "    try:\n",
    "        WebDriverWait(driver, 10).until(\n",
    "            EC.frame_to_be_available_and_switch_to_it((By.XPATH, \"//iframe[contains(@src, 'captcha')]\"))\n",
    "        )\n",
    "        print(\"CAPTCHA detectado. Por favor resolva manualmente...\")\n",
    "        while True:\n",
    "            try:\n",
    "                driver.switch_to.default_content()\n",
    "                # Se conseguir sair do frame, assume que foi resolvido\n",
    "                break\n",
    "            except Exception:\n",
    "                time.sleep(2)\n",
    "    except TimeoutException:\n",
    "        print(\"Nenhum CAPTCHA detectado.\")"
   ]
  },
  {
   "cell_type": "markdown",
   "id": "b80cc4b0-2248-486f-ad8a-20015cdf84ce",
   "metadata": {},
   "source": [
    "## Função para carregar todos os cards na página"
   ]
  },
  {
   "cell_type": "code",
   "execution_count": 3,
   "id": "761b6657-c186-403a-9080-475efff580f7",
   "metadata": {},
   "outputs": [],
   "source": [
    "# Extraindo cards dos imóveis da página\n",
    "def get_cards(driver, tempo_de_rolagem):\n",
    "    while True:\n",
    "        driver.execute_script(\"window.scrollBy(0, 1000);\")\n",
    "        time.sleep(tempo_de_rolagem)\n",
    "        altura_atual = driver.execute_script(\"return window.scrollY + window.innerHeight\")\n",
    "        altura_doc = driver.execute_script(\"return document.body.scrollHeight\")\n",
    "        if altura_atual >= altura_doc:\n",
    "            print(\"Fim da rolagem da página\")\n",
    "            break\n",
    "    cards = driver.find_elements(By.CSS_SELECTOR, \"[data-cy='rp-property-cd']\")\n",
    "    return cards"
   ]
  },
  {
   "cell_type": "markdown",
   "id": "17507a7c-dda2-483e-88bf-e96c7ca6a7b3",
   "metadata": {},
   "source": [
    "## Função para extrair os dados de cada card"
   ]
  },
  {
   "cell_type": "code",
   "execution_count": 4,
   "id": "2483205f-7776-41f9-851c-ac9c0438fe42",
   "metadata": {},
   "outputs": [],
   "source": [
    "# Extraindo os dados dos cards\n",
    "def extrair_dados(cards):\n",
    "    dados_imoveis = []\n",
    "    for card in cards:\n",
    "        dados = {}\n",
    "        campos = {\n",
    "            \"area\": \"rp-cardProperty-propertyArea-txt\",\n",
    "            \"quartos\": \"rp-cardProperty-bedroomQuantity-txt\",\n",
    "            \"banheiros\": \"rp-cardProperty-bathroomQuantity-txt\",\n",
    "            \"vagas\": \"rp-cardProperty-parkingSpacesQuantity-txt\",\n",
    "            \"preco\": \"rp-cardProperty-price-txt\",\n",
    "            \"local\": \"rp-cardProperty-location-txt\"\n",
    "        }\n",
    "\n",
    "        for chave, seletor in campos.items():\n",
    "            try:\n",
    "                elemento = card.find_element(By.CSS_SELECTOR, f\"[data-cy='{seletor}']\")\n",
    "                texto = elemento.text.strip()\n",
    "\n",
    "                # Agora fazemos a limpeza\n",
    "                if chave == \"area\":\n",
    "                    texto = texto.replace(\"Tamanho do imóvel\\n\", \"\")\n",
    "                    texto = texto.replace(\"m²\", \"\").strip()\n",
    "                elif chave == \"quartos\":\n",
    "                    texto = texto.replace(\"Quantidade de quartos\\n\", \"\")\n",
    "                elif chave == \"banheiros\":\n",
    "                    texto = texto.replace(\"Quantidade de banheiros\\n\", \"\")\n",
    "                elif chave == \"vagas\":\n",
    "                    texto = texto.replace(\"Quantidade de vagas de garagem\\n\", \"\")\n",
    "                elif chave == \"local\":\n",
    "                    texto = texto.split(\"\\n\")[-1].strip()\n",
    "                    texto = texto.split(\",\")[0].strip()\n",
    "                    texto = texto.replace(\"Cruz\", \"Bairro da Cruz\") # quando o bairro for Cruz, troca por bairro da Cruz\n",
    "                elif chave == \"preco\":\n",
    "                    texto = texto.split(\"\\n\")[0]  # Pega só a primeira linha\n",
    "                    texto = texto.replace(\"R$\", \"\").replace(\".\", \"\").replace(\"A partir de  \", \"\").strip()  # Remove 'R$' e espaços\n",
    "\n",
    "\n",
    "                dados[chave] = texto\n",
    "            except NoSuchElementException:\n",
    "                dados[chave] = None\n",
    "\n",
    "        dados_imoveis.append(dados)\n",
    "    return dados_imoveis"
   ]
  },
  {
   "cell_type": "markdown",
   "id": "55f61c43-0378-47fd-b9d1-c50622fb2f81",
   "metadata": {},
   "source": [
    "## Função para salvar os dados no CSV"
   ]
  },
  {
   "cell_type": "code",
   "execution_count": null,
   "id": "9cdb7b2c-40a0-49a1-8160-dea4161c2ec1",
   "metadata": {},
   "outputs": [],
   "source": [
    "def salvar_dados(dados, nome_arquivo):\n",
    "    colunas = [\"area\", \"quartos\", \"banheiros\", \"vagas\", \"preco\", \"local\"]\n",
    "    with open(nome_arquivo, mode='w', newline='', encoding='utf-8') as arquivo_csv:\n",
    "        writer = csv.DictWriter(arquivo_csv, fieldnames=colunas)\n",
    "        writer.writeheader()\n",
    "        writer.writerows(dados)\n",
    "    print(f\"Dados salvos no arquivo {nome_arquivo} com sucesso!\")"
   ]
  },
  {
   "cell_type": "markdown",
   "id": "945d9bf1-7b3d-4a2a-97e4-09ee2cf46e5f",
   "metadata": {},
   "source": [
    "## Execução do scraping (main)"
   ]
  },
  {
   "cell_type": "code",
   "execution_count": null,
   "id": "f4fb696b-f439-4104-853b-597b5d7ecd38",
   "metadata": {},
   "outputs": [],
   "source": [
    "def main():\n",
    "    driver = configurar_driver()\n",
    "    url = \"https://www.vivareal.com.br/venda/sp/lorena/\"\n",
    "    driver.get(url)\n",
    "\n",
    "    lidar_com_captcha(driver)\n",
    "\n",
    "    todos_os_imoveis = []\n",
    "\n",
    "    pagina_atual = 1\n",
    "    while True:\n",
    "        cards = get_cards(driver, tempo_de_rolagem=4)\n",
    "        print(f\"Total de imóveis carregados na página {pagina_atual}: {len(cards)}\")\n",
    "        \n",
    "        # Extrai os dados\n",
    "        dados = extrair_dados(cards)\n",
    "        todos_os_imoveis.extend(dados)\n",
    "        \n",
    "        # Agora tenta clicar no botão da próxima página\n",
    "        try:\n",
    "            pagina_atual += 1\n",
    "            botao_pagina = driver.find_element(By.CSS_SELECTOR, f\"button[data-testid='button-page-{pagina_atual}']\")\n",
    "            botao_pagina.click()\n",
    "            time.sleep(10)\n",
    "            \n",
    "        except NoSuchElementException:\n",
    "            print(\"Não há mais páginas para navegar. Encerrando.\")\n",
    "            break\n",
    "        except TimeoutException:\n",
    "            print(\"Elementos da nova página não carregaram a tempo. Encerrando.\")\n",
    "            break\n",
    "\n",
    "    # Fecha o navegador\n",
    "    driver.quit()\n",
    "\n",
    "    # Exibe os dados coletados\n",
    "    for i, imovel in enumerate(todos_os_imoveis, 1):\n",
    "        print(f\"{i}. {imovel}\")\n",
    "\n",
    "    caminho_arquivo = os.path.join(BASE_DIR, 'dados', 'raw', 'scraping.csv')\n",
    "    salvar_dados(todos_os_imoveis, caminho_arquivo)"
   ]
  },
  {
   "cell_type": "markdown",
   "id": "0a6af0b4-9984-4147-a51b-276d42ff3583",
   "metadata": {},
   "source": [
    "## Executando função principal"
   ]
  },
  {
   "cell_type": "code",
   "execution_count": null,
   "id": "876cf73b-33dd-48e6-adfe-379dbf93b1ae",
   "metadata": {},
   "outputs": [],
   "source": [
    "main()"
   ]
  }
 ],
 "metadata": {
  "kernelspec": {
   "display_name": "Python 3 (ipykernel)",
   "language": "python",
   "name": "python3"
  },
  "language_info": {
   "codemirror_mode": {
    "name": "ipython",
    "version": 3
   },
   "file_extension": ".py",
   "mimetype": "text/x-python",
   "name": "python",
   "nbconvert_exporter": "python",
   "pygments_lexer": "ipython3",
   "version": "3.10.11"
  }
 },
 "nbformat": 4,
 "nbformat_minor": 5
}
