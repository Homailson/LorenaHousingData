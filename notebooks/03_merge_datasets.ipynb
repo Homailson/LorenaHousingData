{
 "cells": [
  {
   "cell_type": "markdown",
   "id": "cc7f9147-2791-4884-a35f-db4a762b7bfa",
   "metadata": {},
   "source": [
    "## Imports e definição do diretório base"
   ]
  },
  {
   "cell_type": "code",
   "execution_count": 21,
   "id": "5246a444-6899-43bc-baa1-b6cf0bc70639",
   "metadata": {},
   "outputs": [
    {
     "name": "stdout",
     "output_type": "stream",
     "text": [
      "/Users/Homailson/Documents/WebScrapZapImoveis\n"
     ]
    }
   ],
   "source": [
    "import pandas as pd\n",
    "import re\n",
    "import os\n",
    "\n",
    "# Define caminho base como o diretório atual (adaptado para notebooks)\n",
    "BASE_DIR = os.path.abspath(os.path.join(os.getcwd(), '..')) # ou defina manualmente se necessário\n",
    "print(BASE_DIR)"
   ]
  },
  {
   "cell_type": "markdown",
   "id": "3446f6ab-2efe-4cae-bf27-f00e9d1985c7",
   "metadata": {},
   "source": [
    "## Função para ingestão de amenidades"
   ]
  },
  {
   "cell_type": "code",
   "execution_count": 22,
   "id": "9d52b939-9716-4977-a06f-ea928a63209f",
   "metadata": {},
   "outputs": [],
   "source": [
    "def ingest_amenidades(arquivo_amenidades):\n",
    "    df_bairros = pd.read_csv(arquivo_amenidades)\n",
    "    df_bairros['bairro'] = df_bairros['bairro'].replace('Parque do Taboão', 'Área Rural de Lorena')\n",
    "    return df_bairros"
   ]
  },
  {
   "cell_type": "markdown",
   "id": "7086ae44-1b3e-44c3-a91b-8203955bf55a",
   "metadata": {},
   "source": [
    "## Função para ingestão de dados de imóveis"
   ]
  },
  {
   "cell_type": "code",
   "execution_count": 23,
   "id": "8080b4fe-78a5-49a1-a623-4eea55a19597",
   "metadata": {},
   "outputs": [],
   "source": [
    "def ingest_scraping(arquivo_scraping):\n",
    "    df_imoveis = pd.read_csv(arquivo_scraping)\n",
    "    df_imoveis['local'] = df_imoveis['local'].replace('Loteamento Lorena Village', 'Loteamento Village das Palmeiras')\n",
    "    df_imoveis['local'] = df_imoveis['local'].replace('Santa Lucrécia', 'Área Rural de Lorena')\n",
    "    df_imoveis['local'] = df_imoveis['local'].replace(r'(?<!Parque )Mondesir', 'Parque Mondesir', regex=True)\n",
    "    return df_imoveis"
   ]
  },
  {
   "cell_type": "markdown",
   "id": "fcb17057-b8db-45d7-b6ce-a610e8aee773",
   "metadata": {},
   "source": [
    "## Função de junção dos dados"
   ]
  },
  {
   "cell_type": "code",
   "execution_count": 24,
   "id": "93dbf54d-a8b9-4bed-ac70-6383c1d73846",
   "metadata": {},
   "outputs": [],
   "source": [
    "def merging_files(amenidades, scraping):\n",
    "    df_completo = pd.merge(scraping, amenidades, left_on='local', right_on='bairro', how='left')\n",
    "    df_completo = df_completo.drop(columns=['local'])\n",
    "\n",
    "    nova_ordem = [\"bairro\", \"area\", \"quartos\", \"banheiros\", \"vagas\",\n",
    "                  \"hospital\", \"gas_station\", \"school\", \"supermarket\",\n",
    "                  \"restaurant\", \"pharmacy\", \"preco\"]\n",
    "    df_completo = df_completo[nova_ordem]\n",
    "    return df_completo"
   ]
  },
  {
   "cell_type": "markdown",
   "id": "6ea37230-f982-4c3f-a775-56a40ce053f8",
   "metadata": {},
   "source": [
    "## Função para salvar o DataFrame"
   ]
  },
  {
   "cell_type": "code",
   "execution_count": 25,
   "id": "35d1cec1-3585-483e-894d-83c8503c1399",
   "metadata": {},
   "outputs": [],
   "source": [
    "def salvar_df_completo(df, caminho_saida):\n",
    "    df.to_csv(caminho_saida, index=False)"
   ]
  },
  {
   "cell_type": "markdown",
   "id": "7b02918e-47a2-439d-aa85-bdf7a711f1e4",
   "metadata": {},
   "source": [
    "## Função main"
   ]
  },
  {
   "cell_type": "code",
   "execution_count": 26,
   "id": "1d11c65e-9d28-423d-b2fb-f79495c5f09b",
   "metadata": {},
   "outputs": [],
   "source": [
    "def main():\n",
    "    # Caminhos dos arquivos\n",
    "    caminho_amenidades = os.path.join(BASE_DIR, 'dados', 'raw', 'amenidades.csv')\n",
    "    caminho_scraping = os.path.join(BASE_DIR, 'dados', 'raw', 'scraping.csv')\n",
    "    caminho_saida = os.path.join(BASE_DIR, 'dados', 'processed', 'imoveis_com_amenidades.csv')\n",
    "    \n",
    "    # Processamento\n",
    "    df_bairros = ingest_amenidades(caminho_amenidades)\n",
    "    df_imoveis = ingest_scraping(caminho_scraping)\n",
    "    df_completo = merging_files(df_bairros, df_imoveis)\n",
    "    \n",
    "    # Salvando o resultado\n",
    "    salvar_df_completo(df_completo, caminho_saida)\n",
    "    print(f\"Arquivo salvo como '{caminho_saida}'\")"
   ]
  },
  {
   "cell_type": "markdown",
   "id": "410f37c7-1681-47e8-b424-fdb8f68c5bcb",
   "metadata": {},
   "source": [
    "## Execução da função main"
   ]
  },
  {
   "cell_type": "code",
   "execution_count": 27,
   "id": "4aba5ccc-f78d-4f2c-8a98-e7eb842ee8cf",
   "metadata": {},
   "outputs": [
    {
     "name": "stdout",
     "output_type": "stream",
     "text": [
      "Arquivo salvo como '/Users/Homailson/Documents/WebScrapZapImoveis/dados/processed/imoveis_com_amenidades.csv'\n"
     ]
    }
   ],
   "source": [
    "main()"
   ]
  }
 ],
 "metadata": {
  "kernelspec": {
   "display_name": "Python 3 (ipykernel)",
   "language": "python",
   "name": "python3"
  },
  "language_info": {
   "codemirror_mode": {
    "name": "ipython",
    "version": 3
   },
   "file_extension": ".py",
   "mimetype": "text/x-python",
   "name": "python",
   "nbconvert_exporter": "python",
   "pygments_lexer": "ipython3",
   "version": "3.10.11"
  }
 },
 "nbformat": 4,
 "nbformat_minor": 5
}
