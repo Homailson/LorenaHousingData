{
 "cells": [
  {
   "cell_type": "markdown",
   "id": "2d6efcdd-3333-4836-8fa7-c3be0cb52172",
   "metadata": {},
   "source": [
    "## Importações e diretório base"
   ]
  },
  {
   "cell_type": "code",
   "execution_count": 5,
   "id": "4a67e068-abab-4a0a-a0dc-641be04d8b6e",
   "metadata": {},
   "outputs": [],
   "source": [
    "import requests\n",
    "import concurrent.futures\n",
    "import os\n",
    "import pandas as pd\n",
    "from tqdm.notebook import tqdm  # versão para notebook\n",
    "import time\n",
    "import os\n",
    "\n",
    "# Define caminho base como o diretório atual (adaptado para notebooks)\n",
    "BASE_DIR = os.path.abspath(os.path.join(os.getcwd(), '..')) # ou defina manualmente se necessário"
   ]
  },
  {
   "cell_type": "markdown",
   "id": "64654e6a-fbf3-4fca-800f-b617b156fdfb",
   "metadata": {},
   "source": [
    "## Configuração da API key"
   ]
  },
  {
   "cell_type": "code",
   "execution_count": null,
   "id": "3e846798-bd73-4bdc-a967-09ceafda669f",
   "metadata": {},
   "outputs": [],
   "source": [
    "API_KEY = os.getenv('API_KEY')\n",
    "if not API_KEY:\n",
    "    raise ValueError(\"API_KEY não configurada. Defina a variável de ambiente 'API_KEY'.\")\n",
    "\n",
    "URL_GEOCODE = \"https://maps.googleapis.com/maps/api/geocode/json\"\n",
    "URL_PLACES = \"https://maps.googleapis.com/maps/api/place/nearbysearch/json\"\n",
    "\n",
    "# Tipos de amenidades\n",
    "tipos = ['school', 'hospital', 'gas_station', 'supermarket', 'restaurant', 'pharmacy']"
   ]
  },
  {
   "cell_type": "markdown",
   "id": "d691d59f-23d2-4587-aa50-3113535c45eb",
   "metadata": {},
   "source": [
    "## Função para requisições seguras"
   ]
  },
  {
   "cell_type": "code",
   "execution_count": null,
   "id": "63cedad5-617a-44aa-b495-4e10ac02733e",
   "metadata": {},
   "outputs": [],
   "source": [
    "def fazer_requisicao_segura(url, params=None, timeout=10):\n",
    "    try:\n",
    "        resposta = requests.get(url, params=params, timeout=timeout)\n",
    "        resposta.raise_for_status()\n",
    "        return resposta.json()\n",
    "    except requests.exceptions.RequestException as e:\n",
    "        print(f\"Erro de conexão: {e}\")\n",
    "    except Exception as e:\n",
    "        print(f\"Erro inesperado: {e}\")\n",
    "    return None"
   ]
  },
  {
   "cell_type": "markdown",
   "id": "3ff95d64-287a-45e0-bcf5-0ab4a6c88959",
   "metadata": {},
   "source": [
    "## Função para buscar coordenadas de 1 bairro"
   ]
  },
  {
   "cell_type": "code",
   "execution_count": null,
   "id": "c053b94b-4bb6-4876-915e-3c911543ddef",
   "metadata": {},
   "outputs": [],
   "source": [
    "def fazer_requisicao_segura(url, params=None, timeout=10):\n",
    "    try:\n",
    "        resposta = requests.get(url, params=params, timeout=timeout)\n",
    "        resposta.raise_for_status()\n",
    "        return resposta.json()\n",
    "    except requests.exceptions.RequestException as e:\n",
    "        print(f\"Erro de conexão: {e}\")\n",
    "    except Exception as e:\n",
    "        print(f\"Erro inesperado: {e}\")\n",
    "    return None"
   ]
  },
  {
   "cell_type": "markdown",
   "id": "98d16316-d71c-4b16-92fc-e0ec3c99fa8d",
   "metadata": {},
   "source": [
    "## Função para buscar lugares em 1 coordenada"
   ]
  },
  {
   "cell_type": "code",
   "execution_count": null,
   "id": "98d3300c-d15c-476c-a6a5-a639380e5bdb",
   "metadata": {},
   "outputs": [],
   "source": [
    "def buscar_coordenada(args):\n",
    "    bairro, cidade = args\n",
    "    params = {\"address\": f\"{bairro}, {cidade}\", \"key\": API_KEY}\n",
    "    dados = fazer_requisicao_segura(URL_GEOCODE, params=params)\n",
    "    if dados and dados.get('status') == 'OK' and dados['results']:\n",
    "        location = dados['results'][0]['geometry']['location']\n",
    "        return bairro, (location['lat'], location['lng'])\n",
    "    else:\n",
    "        print(f\"Erro ao obter localização de {bairro}: {dados.get('status', 'Sem status') if dados else 'Sem resposta'}\")\n",
    "        return bairro, None"
   ]
  },
  {
   "cell_type": "markdown",
   "id": "4271be71-b312-4075-9a4a-c11c547c6f8b",
   "metadata": {},
   "source": [
    "## Buscar amenidades para coordenadas"
   ]
  },
  {
   "cell_type": "code",
   "execution_count": null,
   "id": "6975d58c-9c92-4fa9-abdb-6e86acb78e66",
   "metadata": {},
   "outputs": [],
   "source": [
    "def buscar_amenidades(nome_lat_lon):\n",
    "    nome, coord = nome_lat_lon\n",
    "    if coord is None:\n",
    "        return {'bairro': nome, **{tipo: 0 for tipo in tipos}}\n",
    "    \n",
    "    lat, lon = coord\n",
    "    amenidades = {}\n",
    "    for tipo in tipos:\n",
    "        params = {\"location\": f\"{lat},{lon}\", \"radius\": 1000, \"type\": tipo, \"key\": API_KEY}\n",
    "        dados = fazer_requisicao_segura(URL_PLACES, params=params)\n",
    "        amenidades[tipo] = 1 if dados and dados.get('status') == 'OK' else 0\n",
    "        time.sleep(0.1)  # evitar limite da API\n",
    "    return {'bairro': nome, **amenidades}"
   ]
  },
  {
   "cell_type": "markdown",
   "id": "5dd259e1-9603-4bf8-b9e9-2bee1158b85c",
   "metadata": {},
   "source": [
    "## Obter coordenadas de vários bairros"
   ]
  },
  {
   "cell_type": "code",
   "execution_count": 1,
   "id": "eb2f47f8-de30-4f1d-bc37-7d68d549e748",
   "metadata": {},
   "outputs": [],
   "source": [
    "def obter_lat_lon(bairros, cidade):\n",
    "    coordenadas = {}\n",
    "    with concurrent.futures.ThreadPoolExecutor(max_workers=10) as executor:\n",
    "        resultados = list(tqdm(executor.map(buscar_coordenada, [(bairro, cidade) for bairro in bairros]),\n",
    "                               total=len(bairros),\n",
    "                               desc=\"Buscando coordenadas\"))\n",
    "        for bairro, coord in resultados:\n",
    "            if coord:\n",
    "                coordenadas[bairro] = coord\n",
    "    return coordenadas"
   ]
  },
  {
   "cell_type": "markdown",
   "id": "02a544f5-ddb2-424c-b6b8-e122149a0852",
   "metadata": {},
   "source": [
    "## Buscar lugares (amenidades) para os bairros"
   ]
  },
  {
   "cell_type": "code",
   "execution_count": 2,
   "id": "b5d01e87-4e57-4d77-aa8b-cbee7eb5c6d4",
   "metadata": {},
   "outputs": [],
   "source": [
    "def buscar_lugares(coordenadas):\n",
    "    with concurrent.futures.ThreadPoolExecutor(max_workers=10) as executor:\n",
    "        resultados = list(tqdm(executor.map(buscar_amenidades, coordenadas.items()),\n",
    "                               total=len(coordenadas),\n",
    "                               desc=\"Buscando amenidades\"))\n",
    "    return resultados"
   ]
  },
  {
   "cell_type": "markdown",
   "id": "c7e98ecf-4190-40dd-9499-fa5b6e274ac9",
   "metadata": {},
   "source": [
    "## Salvar os dados em CSV"
   ]
  },
  {
   "cell_type": "code",
   "execution_count": 3,
   "id": "08452be4-4bcb-4725-aeec-90209ea22055",
   "metadata": {},
   "outputs": [],
   "source": [
    "def salvar_csv(dados, caminho_saida):\n",
    "    df = pd.DataFrame(dados)\n",
    "    df.to_csv(caminho_saida, index=False)\n",
    "    print(f\"Arquivo salvo em {caminho_saida}\")"
   ]
  },
  {
   "cell_type": "markdown",
   "id": "2b2309c9-e7c0-4816-ab95-bd0ee4de6c53",
   "metadata": {},
   "source": [
    "## Função principal"
   ]
  },
  {
   "cell_type": "code",
   "execution_count": null,
   "id": "0f10c2cf-d529-4be7-b1f2-e245c240d55f",
   "metadata": {},
   "outputs": [],
   "source": [
    "def main(caminho_saida):\n",
    "    bairros = [\n",
    "        \"Centro\", \"Vila Nunes\", \"Vila São Roque\", \"Santo Antônio\", \"Bairro da Cruz\",\n",
    "        \"Parque das Rodovias\", \"Cidade Industrial\", \"Residencial Vila Rica\",\n",
    "        \"Loteamento Jardim Primavera\", \"Vila dos Comerciários I\", \"Parque Mondesir\",\n",
    "        \"Ponte Nova\", \"Vila Passos\", \"Jardim Novo Horizonte\", \"Vila Hepacare\",\n",
    "        \"Vila Brito\", \"Nova Lorena\", \"Aterrado\", \"Cabelinha\", \"Vila Geny\", \"Olaria\",\n",
    "        \"Portal das Palmeiras\", \"Vila Santa Edwiges\", \"Vila Portugal\",\n",
    "        \"Loteamento Village das Palmeiras\", \"Loteamento Lorena Village\",\n",
    "        \"Jardim Margarida\", \"Parque do Taboão\", \"Loteamento Colinas de Lorena\", \"Cecap\"\n",
    "    ]\n",
    "\n",
    "    cidade = 'Lorena, São Paulo, Brasil'\n",
    "    \n",
    "    coordenadas = obter_lat_lon(bairros, cidade)\n",
    "    informacoes = buscar_lugares(coordenadas)\n",
    "    salvar_csv(informacoes, caminho_saida)"
   ]
  },
  {
   "cell_type": "markdown",
   "id": "a8162579-dfda-4970-a98e-4a407be3f508",
   "metadata": {},
   "source": [
    "## Executando função principal"
   ]
  },
  {
   "cell_type": "code",
   "execution_count": null,
   "id": "ad57e696-e22d-4bce-9e81-911d3caa0f59",
   "metadata": {},
   "outputs": [],
   "source": [
    "caminho_saida = os.path.join(BASE_DIR, 'dados', 'raw', 'amenidades.csv')\n",
    "main(caminho_saida)"
   ]
  }
 ],
 "metadata": {
  "kernelspec": {
   "display_name": "Python 3 (ipykernel)",
   "language": "python",
   "name": "python3"
  },
  "language_info": {
   "codemirror_mode": {
    "name": "ipython",
    "version": 3
   },
   "file_extension": ".py",
   "mimetype": "text/x-python",
   "name": "python",
   "nbconvert_exporter": "python",
   "pygments_lexer": "ipython3",
   "version": "3.10.11"
  }
 },
 "nbformat": 4,
 "nbformat_minor": 5
}
